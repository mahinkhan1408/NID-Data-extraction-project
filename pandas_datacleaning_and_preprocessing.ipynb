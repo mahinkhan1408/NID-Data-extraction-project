{
  "nbformat": 4,
  "nbformat_minor": 0,
  "metadata": {
    "colab": {
      "provenance": [],
      "authorship_tag": "ABX9TyPfOrIW+7nhyTL9HHSghPEB",
      "include_colab_link": true
    },
    "kernelspec": {
      "name": "python3",
      "display_name": "Python 3"
    },
    "language_info": {
      "name": "python"
    }
  },
  "cells": [
    {
      "cell_type": "markdown",
      "metadata": {
        "id": "view-in-github",
        "colab_type": "text"
      },
      "source": [
        "<a href=\"https://colab.research.google.com/github/mahinkhan1408/NID-Data-extraction-project/blob/main/pandas_datacleaning_and_preprocessing.ipynb\" target=\"_parent\"><img src=\"https://colab.research.google.com/assets/colab-badge.svg\" alt=\"Open In Colab\"/></a>"
      ]
    },
    {
      "cell_type": "code",
      "execution_count": 3,
      "metadata": {
        "colab": {
          "base_uri": "https://localhost:8080/"
        },
        "id": "pOCYcLV6Wz4B",
        "outputId": "97ac2e01-5373-4300-805e-d6c0b81b510a"
      },
      "outputs": [
        {
          "output_type": "stream",
          "name": "stdout",
          "text": [
            "         Date    Product  Quantity  Sales\n",
            "0  2023-01-01  Product A         5     50\n",
            "1  2023-01-01  Product B         2     40\n",
            "2  2023-01-02  Product A         7     70\n",
            "3  2023-01-02  Product C         3     90\n",
            "4  2023-01-03  Product B         4     80\n",
            "5  2023-01-03  Product C         2     60\n",
            "6  2023-01-04  Product A         1     10\n",
            "7  2023-01-04  Product B         1     20\n"
          ]
        }
      ],
      "source": [
        "import pandas as pd\n",
        "\n",
        "df= pd.read_csv('/content/retail_sales.csv')\n",
        "print(df)\n"
      ]
    },
    {
      "cell_type": "code",
      "source": [
        "# dropna() will remove all the rows with empty cell.\n",
        "\n",
        "new_df= df.dropna()\n",
        "print(new_df.to_string())"
      ],
      "metadata": {
        "colab": {
          "base_uri": "https://localhost:8080/"
        },
        "id": "d4-9z239Xcua",
        "outputId": "cb02e77d-17ef-47be-dc95-6f996247bbdf"
      },
      "execution_count": 2,
      "outputs": [
        {
          "output_type": "stream",
          "name": "stdout",
          "text": [
            "         Date    Product  Quantity  Sales\n",
            "0  2023-01-01  Product A         5     50\n",
            "1  2023-01-01  Product B         2     40\n",
            "2  2023-01-02  Product A         7     70\n",
            "3  2023-01-02  Product C         3     90\n",
            "4  2023-01-03  Product B         4     80\n",
            "5  2023-01-03  Product C         2     60\n",
            "6  2023-01-04  Product A         1     10\n",
            "7  2023-01-04  Product B         1     20\n"
          ]
        }
      ]
    },
    {
      "cell_type": "code",
      "source": [
        "#lets check it again with a null cell\n",
        "import csv\n",
        "data = [[12,13,14,5],[12,12,12],[14,14,16,15]]\n",
        "with open('/content/retail_sales.csv', mode='a') as newdf:\n",
        "  csv_writer= csv.writer(newdf)\n",
        "  csv_writer.writerows(data)\n",
        "\n",
        "open('/content/retail_sales.csv', mode='r')\n",
        "\n",
        "\n",
        "import pandas as pd\n",
        "\n",
        "new= pd.read_csv('/content/retail_sales.csv')\n",
        "\n",
        "print(new)\n"
      ],
      "metadata": {
        "colab": {
          "base_uri": "https://localhost:8080/"
        },
        "id": "qlupqOohaI_S",
        "outputId": "1921c65e-ad5e-437d-b4c2-946f8ecad153"
      },
      "execution_count": 23,
      "outputs": [
        {
          "output_type": "stream",
          "name": "stdout",
          "text": [
            "    12  13  14     5\n",
            "0   12  12  12   NaN\n",
            "1   14  14  16  15.0\n",
            "2   12  13  14   5.0\n",
            "3   12  12  12   NaN\n",
            "4   14  14  16  15.0\n",
            "5   12  13  14   5.0\n",
            "6   12  12  12   NaN\n",
            "7   14  14  16  15.0\n",
            "8   12  13  14   5.0\n",
            "9   12  12  12   NaN\n",
            "10  14  14  16  15.0\n"
          ]
        }
      ]
    },
    {
      "cell_type": "code",
      "source": [
        "print(new.to_string())"
      ],
      "metadata": {
        "colab": {
          "base_uri": "https://localhost:8080/"
        },
        "id": "-0HTcAV6eMJS",
        "outputId": "905161b9-5ead-4b9b-abfc-891556616f36"
      },
      "execution_count": 24,
      "outputs": [
        {
          "output_type": "stream",
          "name": "stdout",
          "text": [
            "    12  13  14     5\n",
            "0   12  12  12   NaN\n",
            "1   14  14  16  15.0\n",
            "2   12  13  14   5.0\n",
            "3   12  12  12   NaN\n",
            "4   14  14  16  15.0\n",
            "5   12  13  14   5.0\n",
            "6   12  12  12   NaN\n",
            "7   14  14  16  15.0\n",
            "8   12  13  14   5.0\n",
            "9   12  12  12   NaN\n",
            "10  14  14  16  15.0\n"
          ]
        }
      ]
    },
    {
      "cell_type": "code",
      "source": [
        "nonullcell = new.dropna()\n",
        "print(nonullcell)"
      ],
      "metadata": {
        "colab": {
          "base_uri": "https://localhost:8080/"
        },
        "id": "RJlZpfPneZUw",
        "outputId": "968a5666-8b3d-4e7b-c2e3-ab687604dc15"
      },
      "execution_count": 26,
      "outputs": [
        {
          "output_type": "stream",
          "name": "stdout",
          "text": [
            "    12  13  14     5\n",
            "1   14  14  16  15.0\n",
            "2   12  13  14   5.0\n",
            "4   14  14  16  15.0\n",
            "5   12  13  14   5.0\n",
            "7   14  14  16  15.0\n",
            "8   12  13  14   5.0\n",
            "10  14  14  16  15.0\n"
          ]
        }
      ]
    },
    {
      "cell_type": "code",
      "source": [
        "new.fillna(100, inplace=True)  #inplace means , we dont need to create a new dataframe , value will\n",
        "#be updated in the existinf dataframe\n",
        "\n",
        "print(new)"
      ],
      "metadata": {
        "colab": {
          "base_uri": "https://localhost:8080/"
        },
        "id": "TLS2TjLeevQn",
        "outputId": "95094f00-fc35-40a2-e3e6-2ec349c1d6bc"
      },
      "execution_count": 30,
      "outputs": [
        {
          "output_type": "stream",
          "name": "stdout",
          "text": [
            "    12  13  14      5\n",
            "0   12  12  12  100.0\n",
            "1   14  14  16   15.0\n",
            "2   12  13  14    5.0\n",
            "3   12  12  12  100.0\n",
            "4   14  14  16   15.0\n",
            "5   12  13  14    5.0\n",
            "6   12  12  12  100.0\n",
            "7   14  14  16   15.0\n",
            "8   12  13  14    5.0\n",
            "9   12  12  12  100.0\n",
            "10  14  14  16   15.0\n"
          ]
        }
      ]
    },
    {
      "cell_type": "code",
      "source": [
        "df= pd.read_csv('/content/sample_data/california_housing_train.csv')\n",
        "print(df)\n",
        "\n",
        "# to replace the null in specific column we will do the below thing\n",
        "\n",
        "df[\"longitude\"].fillna(420,inplace = True)"
      ],
      "metadata": {
        "colab": {
          "base_uri": "https://localhost:8080/"
        },
        "id": "c8My8QBFfN2Q",
        "outputId": "242f4f0c-0de6-4eec-a568-b9d9aab97929"
      },
      "execution_count": 34,
      "outputs": [
        {
          "output_type": "stream",
          "name": "stdout",
          "text": [
            "       longitude  latitude  housing_median_age  total_rooms  total_bedrooms  \\\n",
            "0        -114.31     34.19                15.0       5612.0          1283.0   \n",
            "1        -114.47     34.40                19.0       7650.0          1901.0   \n",
            "2        -114.56     33.69                17.0        720.0           174.0   \n",
            "3        -114.57     33.64                14.0       1501.0           337.0   \n",
            "4        -114.57     33.57                20.0       1454.0           326.0   \n",
            "...          ...       ...                 ...          ...             ...   \n",
            "16995    -124.26     40.58                52.0       2217.0           394.0   \n",
            "16996    -124.27     40.69                36.0       2349.0           528.0   \n",
            "16997    -124.30     41.84                17.0       2677.0           531.0   \n",
            "16998    -124.30     41.80                19.0       2672.0           552.0   \n",
            "16999    -124.35     40.54                52.0       1820.0           300.0   \n",
            "\n",
            "       population  households  median_income  median_house_value  \n",
            "0          1015.0       472.0         1.4936             66900.0  \n",
            "1          1129.0       463.0         1.8200             80100.0  \n",
            "2           333.0       117.0         1.6509             85700.0  \n",
            "3           515.0       226.0         3.1917             73400.0  \n",
            "4           624.0       262.0         1.9250             65500.0  \n",
            "...           ...         ...            ...                 ...  \n",
            "16995       907.0       369.0         2.3571            111400.0  \n",
            "16996      1194.0       465.0         2.5179             79000.0  \n",
            "16997      1244.0       456.0         3.0313            103600.0  \n",
            "16998      1298.0       478.0         1.9797             85800.0  \n",
            "16999       806.0       270.0         3.0147             94600.0  \n",
            "\n",
            "[17000 rows x 9 columns]\n"
          ]
        }
      ]
    },
    {
      "cell_type": "code",
      "source": [
        "#to remove the duplite rows\n",
        "\n",
        "df_new= df.drop_duplicates()"
      ],
      "metadata": {
        "id": "LM45l0ZMgLBw"
      },
      "execution_count": 35,
      "outputs": []
    },
    {
      "cell_type": "code",
      "source": [
        "#change format in the columns using function\n",
        "\n",
        "df[\"order_date\"] = pd.to_datetime(df[\"order_date\"], format = '%d%m%y', errors='ignore')\n",
        "\n",
        "###( errors='ignore': This argument tells the function to ignore errors.\n",
        "# If there are any values in the order_date column that cannot be converted to a\n",
        "# datetime format, they will be left as they are without raising an error.\n",
        "\n",
        "#other values will be converted to the given format"
      ],
      "metadata": {
        "id": "8aQiqITygTen"
      },
      "execution_count": null,
      "outputs": []
    }
  ]
}