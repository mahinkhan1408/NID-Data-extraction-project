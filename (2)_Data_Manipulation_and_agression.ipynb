{
  "nbformat": 4,
  "nbformat_minor": 0,
  "metadata": {
    "colab": {
      "provenance": [],
      "authorship_tag": "ABX9TyNFFYh2xmr2Dptrg99GZzzF",
      "include_colab_link": true
    },
    "kernelspec": {
      "name": "python3",
      "display_name": "Python 3"
    },
    "language_info": {
      "name": "python"
    }
  },
  "cells": [
    {
      "cell_type": "markdown",
      "metadata": {
        "id": "view-in-github",
        "colab_type": "text"
      },
      "source": [
        "<a href=\"https://colab.research.google.com/github/mahinkhan1408/NID-Data-extraction-project/blob/main/(2)_Data_Manipulation_and_agression.ipynb\" target=\"_parent\"><img src=\"https://colab.research.google.com/assets/colab-badge.svg\" alt=\"Open In Colab\"/></a>"
      ]
    },
    {
      "cell_type": "code",
      "execution_count": 8,
      "metadata": {
        "colab": {
          "base_uri": "https://localhost:8080/"
        },
        "id": "dnIBd5yg_itO",
        "outputId": "ef38e9d5-d9c9-48b6-e331-f46910c52995"
      },
      "outputs": [
        {
          "output_type": "stream",
          "name": "stdout",
          "text": [
            "        Status                WO #      Work Type  Client State  Date Due  \\\n",
            "0    Cancelled          1061203253   Snow Removal    9102    IL  02-06-25   \n",
            "1    Cancelled          1061201299   Snow Removal    9102    IL  01-31-25   \n",
            "2    Cancelled          1061199149   Snow Removal    9102    IL  01-22-25   \n",
            "3    Cancelled          1061197921   Snow Removal    9102    WI  01-17-25   \n",
            "4       Closed          1061196387   Snow Removal    9102    IL  01-11-25   \n",
            "..         ...                 ...            ...     ...   ...       ...   \n",
            "495     Closed  101992- Electrical  Turn Estimate    2115    IN  05-15-24   \n",
            "496     Closed      101992- Stairs  Turn Estimate    2115    IN  05-15-24   \n",
            "497     Closed         00579946-BA    OM Approval    9111    AL  05-15-24   \n",
            "498  Cancelled              215017    OM Estimate    6609    PA  05-15-24   \n",
            "499     Closed     453149587-IS-Z1      Misc.Work    9106    MS  05-15-24   \n",
            "\n",
            "    Ready Office Date Received         Category Customer        Loan #  \\\n",
            "0            NaN      02-06-24  Ready To Assign      271    ######2682   \n",
            "1            NaN      01-31-24  Ready To Assign      271    ######3462   \n",
            "2       04-01-24      01-22-24  Ready To Assign      251    ######7315   \n",
            "3       04-01-24      03-19-24  Ready To Assign      271    ######9863   \n",
            "4       01-22-24      01-11-24  Ready To Assign      251    ######7315   \n",
            "..           ...           ...              ...      ...           ...   \n",
            "495     05-16-24      05-13-24             RUSH      NaN           NaN   \n",
            "496     05-14-24      05-13-24             RUSH      NaN           NaN   \n",
            "497     05-24-24      05-13-24             RUSH      NaN           NaN   \n",
            "498          NaN      05-13-24              NaN      NaN           NaN   \n",
            "499     05-21-24      05-13-24  Ready To Assign      NaN  0680668209-0   \n",
            "\n",
            "                Address             City    Zip          Contractor  \\\n",
            "0     8421 S Paulina St          Chicago  60620       Emmanuel Sosa   \n",
            "1      1224  Landon Ave  Winthrop Harbor  60096       Emmanuel Sosa   \n",
            "2       409  Prairie St         Kirkland  60146  Brandi Covarrubias   \n",
            "3     506 S Indiana Ave        West Bend  53095             Jacob R   \n",
            "4       409  Prairie St         Kirkland  60146  Brandi Covarrubias   \n",
            "..                  ...              ...    ...                 ...   \n",
            "495   4688 Briarwood Dr         Newburgh  47630         Theo Tafhim   \n",
            "496   4688 Briarwood Dr         Newburgh  47630         Theo Tafhim   \n",
            "497  1723 6th Pl Cir NW     Center Point  35215            Samuel H   \n",
            "498  1508 Brookstone Pl       Hellertown  18055            Amilia T   \n",
            "499    110 MAGNOLIA CIR          JACKSON  39209      Sylvia Preston   \n",
            "\n",
            "           Admin  Photos  \n",
            "0            NaN       0  \n",
            "1            NaN       0  \n",
            "2            NaN       0  \n",
            "3            NaN       0  \n",
            "4            NaN      28  \n",
            "..           ...     ...  \n",
            "495  Theo Tafhim       2  \n",
            "496  Theo Tafhim       3  \n",
            "497          NaN      14  \n",
            "498      Sunny A       1  \n",
            "499          NaN      62  \n",
            "\n",
            "[500 rows x 17 columns]\n"
          ]
        }
      ],
      "source": [
        "import pandas as pd\n",
        "\n",
        "df = pd.read_csv('/content/ESUS 500 data.csv')\n",
        "print(df)"
      ]
    },
    {
      "cell_type": "code",
      "source": [
        "new_df= df.groupby('Status')['Client'].count()\n",
        "print(new_df)"
      ],
      "metadata": {
        "colab": {
          "base_uri": "https://localhost:8080/"
        },
        "id": "VX5mZESEA7Kh",
        "outputId": "8c70447e-b94b-4c02-a8f1-eec0eda14388"
      },
      "execution_count": 9,
      "outputs": [
        {
          "output_type": "stream",
          "name": "stdout",
          "text": [
            "Status\n",
            "Cancelled                37\n",
            "Closed                  233\n",
            "Follow Up                 3\n",
            "In Field                148\n",
            "Invoiced                  9\n",
            "Ready for Office         15\n",
            "Ready for Office (2)      4\n",
            "Unassigned               13\n",
            "Unread                   38\n",
            "Name: Client, dtype: int64\n"
          ]
        }
      ]
    },
    {
      "cell_type": "code",
      "source": [
        "Clientreport= df.groupby('Client')['WO #'].count()\n",
        "print(Clientreport)"
      ],
      "metadata": {
        "colab": {
          "base_uri": "https://localhost:8080/"
        },
        "id": "5s-3jhCUO8X0",
        "outputId": "5bf36694-a032-4a6a-f600-1f7c1f0f255d"
      },
      "execution_count": 10,
      "outputs": [
        {
          "output_type": "stream",
          "name": "stdout",
          "text": [
            "Client\n",
            "1102      1\n",
            "1108     15\n",
            "1111     24\n",
            "1114      4\n",
            "1115      6\n",
            "2103      6\n",
            "2115     32\n",
            "2117      6\n",
            "3303     11\n",
            "3306      8\n",
            "3311     34\n",
            "6601      1\n",
            "6604      2\n",
            "6609      5\n",
            "6611      5\n",
            "6616     24\n",
            "7502      4\n",
            "7503      2\n",
            "7506     23\n",
            "7507     17\n",
            "7509      1\n",
            "9102    192\n",
            "9103     31\n",
            "9104     20\n",
            "9106      8\n",
            "9111      9\n",
            "9115      7\n",
            "9118      2\n",
            "Name: WO #, dtype: int64\n"
          ]
        }
      ]
    },
    {
      "cell_type": "code",
      "source": [
        "Clientreport.to_csv('output.csv')"
      ],
      "metadata": {
        "id": "55jPJcslD82_"
      },
      "execution_count": 13,
      "outputs": []
    },
    {
      "cell_type": "code",
      "source": [
        "Clientreport.to_excel('output.xlsx')\n",
        "\n",
        "#to_json\n",
        "#to-parquet"
      ],
      "metadata": {
        "id": "6WThdqb8EIwj"
      },
      "execution_count": 14,
      "outputs": []
    },
    {
      "cell_type": "code",
      "source": [
        " new_df.aggregate(['sum','min'])"
      ],
      "metadata": {
        "id": "SMrwXnjQKExh",
        "colab": {
          "base_uri": "https://localhost:8080/"
        },
        "outputId": "7d7d1fe1-63f6-4329-c4e7-c55b3ee6c607"
      },
      "execution_count": 11,
      "outputs": [
        {
          "output_type": "execute_result",
          "data": {
            "text/plain": [
              "sum    500\n",
              "min      3\n",
              "Name: Client, dtype: int64"
            ]
          },
          "metadata": {},
          "execution_count": 11
        }
      ]
    },
    {
      "cell_type": "markdown",
      "source": [
        "**JOIN 2 dataset**"
      ],
      "metadata": {
        "id": "zWESfIKy7TQV"
      }
    },
    {
      "cell_type": "code",
      "source": [
        "new_file = pd.read_csv('NEW DF')\n",
        "merged_data = pd.merge(new_df,new_file, on= ' A COLUMN NAME')\n",
        "print(merged_data)"
      ],
      "metadata": {
        "id": "OppK28nB6-PM",
        "colab": {
          "base_uri": "https://localhost:8080/",
          "height": 370
        },
        "outputId": "78d0a5bd-66a9-4590-9365-7d5cd7c42cb8"
      },
      "execution_count": 12,
      "outputs": [
        {
          "output_type": "error",
          "ename": "FileNotFoundError",
          "evalue": "[Errno 2] No such file or directory: 'NEW DF'",
          "traceback": [
            "\u001b[0;31m---------------------------------------------------------------------------\u001b[0m",
            "\u001b[0;31mFileNotFoundError\u001b[0m                         Traceback (most recent call last)",
            "\u001b[0;32m<ipython-input-12-bd100b26d61e>\u001b[0m in \u001b[0;36m<cell line: 1>\u001b[0;34m()\u001b[0m\n\u001b[0;32m----> 1\u001b[0;31m \u001b[0mnew_file\u001b[0m \u001b[0;34m=\u001b[0m \u001b[0mpd\u001b[0m\u001b[0;34m.\u001b[0m\u001b[0mread_csv\u001b[0m\u001b[0;34m(\u001b[0m\u001b[0;34m'NEW DF'\u001b[0m\u001b[0;34m)\u001b[0m\u001b[0;34m\u001b[0m\u001b[0;34m\u001b[0m\u001b[0m\n\u001b[0m\u001b[1;32m      2\u001b[0m \u001b[0mmerged_data\u001b[0m \u001b[0;34m=\u001b[0m \u001b[0mpd\u001b[0m\u001b[0;34m.\u001b[0m\u001b[0mmerge\u001b[0m\u001b[0;34m(\u001b[0m\u001b[0mnew_df\u001b[0m\u001b[0;34m,\u001b[0m\u001b[0mnew_file\u001b[0m\u001b[0;34m,\u001b[0m \u001b[0mon\u001b[0m\u001b[0;34m=\u001b[0m \u001b[0;34m' A COLUMN NAME'\u001b[0m\u001b[0;34m)\u001b[0m\u001b[0;34m\u001b[0m\u001b[0;34m\u001b[0m\u001b[0m\n\u001b[1;32m      3\u001b[0m \u001b[0mprint\u001b[0m\u001b[0;34m(\u001b[0m\u001b[0mmerged_data\u001b[0m\u001b[0;34m)\u001b[0m\u001b[0;34m\u001b[0m\u001b[0;34m\u001b[0m\u001b[0m\n",
            "\u001b[0;32m/usr/local/lib/python3.10/dist-packages/pandas/io/parsers/readers.py\u001b[0m in \u001b[0;36mread_csv\u001b[0;34m(filepath_or_buffer, sep, delimiter, header, names, index_col, usecols, dtype, engine, converters, true_values, false_values, skipinitialspace, skiprows, skipfooter, nrows, na_values, keep_default_na, na_filter, verbose, skip_blank_lines, parse_dates, infer_datetime_format, keep_date_col, date_parser, date_format, dayfirst, cache_dates, iterator, chunksize, compression, thousands, decimal, lineterminator, quotechar, quoting, doublequote, escapechar, comment, encoding, encoding_errors, dialect, on_bad_lines, delim_whitespace, low_memory, memory_map, float_precision, storage_options, dtype_backend)\u001b[0m\n\u001b[1;32m    910\u001b[0m     \u001b[0mkwds\u001b[0m\u001b[0;34m.\u001b[0m\u001b[0mupdate\u001b[0m\u001b[0;34m(\u001b[0m\u001b[0mkwds_defaults\u001b[0m\u001b[0;34m)\u001b[0m\u001b[0;34m\u001b[0m\u001b[0;34m\u001b[0m\u001b[0m\n\u001b[1;32m    911\u001b[0m \u001b[0;34m\u001b[0m\u001b[0m\n\u001b[0;32m--> 912\u001b[0;31m     \u001b[0;32mreturn\u001b[0m \u001b[0m_read\u001b[0m\u001b[0;34m(\u001b[0m\u001b[0mfilepath_or_buffer\u001b[0m\u001b[0;34m,\u001b[0m \u001b[0mkwds\u001b[0m\u001b[0;34m)\u001b[0m\u001b[0;34m\u001b[0m\u001b[0;34m\u001b[0m\u001b[0m\n\u001b[0m\u001b[1;32m    913\u001b[0m \u001b[0;34m\u001b[0m\u001b[0m\n\u001b[1;32m    914\u001b[0m \u001b[0;34m\u001b[0m\u001b[0m\n",
            "\u001b[0;32m/usr/local/lib/python3.10/dist-packages/pandas/io/parsers/readers.py\u001b[0m in \u001b[0;36m_read\u001b[0;34m(filepath_or_buffer, kwds)\u001b[0m\n\u001b[1;32m    575\u001b[0m \u001b[0;34m\u001b[0m\u001b[0m\n\u001b[1;32m    576\u001b[0m     \u001b[0;31m# Create the parser.\u001b[0m\u001b[0;34m\u001b[0m\u001b[0;34m\u001b[0m\u001b[0m\n\u001b[0;32m--> 577\u001b[0;31m     \u001b[0mparser\u001b[0m \u001b[0;34m=\u001b[0m \u001b[0mTextFileReader\u001b[0m\u001b[0;34m(\u001b[0m\u001b[0mfilepath_or_buffer\u001b[0m\u001b[0;34m,\u001b[0m \u001b[0;34m**\u001b[0m\u001b[0mkwds\u001b[0m\u001b[0;34m)\u001b[0m\u001b[0;34m\u001b[0m\u001b[0;34m\u001b[0m\u001b[0m\n\u001b[0m\u001b[1;32m    578\u001b[0m \u001b[0;34m\u001b[0m\u001b[0m\n\u001b[1;32m    579\u001b[0m     \u001b[0;32mif\u001b[0m \u001b[0mchunksize\u001b[0m \u001b[0;32mor\u001b[0m \u001b[0miterator\u001b[0m\u001b[0;34m:\u001b[0m\u001b[0;34m\u001b[0m\u001b[0;34m\u001b[0m\u001b[0m\n",
            "\u001b[0;32m/usr/local/lib/python3.10/dist-packages/pandas/io/parsers/readers.py\u001b[0m in \u001b[0;36m__init__\u001b[0;34m(self, f, engine, **kwds)\u001b[0m\n\u001b[1;32m   1405\u001b[0m \u001b[0;34m\u001b[0m\u001b[0m\n\u001b[1;32m   1406\u001b[0m         \u001b[0mself\u001b[0m\u001b[0;34m.\u001b[0m\u001b[0mhandles\u001b[0m\u001b[0;34m:\u001b[0m \u001b[0mIOHandles\u001b[0m \u001b[0;34m|\u001b[0m \u001b[0;32mNone\u001b[0m \u001b[0;34m=\u001b[0m \u001b[0;32mNone\u001b[0m\u001b[0;34m\u001b[0m\u001b[0;34m\u001b[0m\u001b[0m\n\u001b[0;32m-> 1407\u001b[0;31m         \u001b[0mself\u001b[0m\u001b[0;34m.\u001b[0m\u001b[0m_engine\u001b[0m \u001b[0;34m=\u001b[0m \u001b[0mself\u001b[0m\u001b[0;34m.\u001b[0m\u001b[0m_make_engine\u001b[0m\u001b[0;34m(\u001b[0m\u001b[0mf\u001b[0m\u001b[0;34m,\u001b[0m \u001b[0mself\u001b[0m\u001b[0;34m.\u001b[0m\u001b[0mengine\u001b[0m\u001b[0;34m)\u001b[0m\u001b[0;34m\u001b[0m\u001b[0;34m\u001b[0m\u001b[0m\n\u001b[0m\u001b[1;32m   1408\u001b[0m \u001b[0;34m\u001b[0m\u001b[0m\n\u001b[1;32m   1409\u001b[0m     \u001b[0;32mdef\u001b[0m \u001b[0mclose\u001b[0m\u001b[0;34m(\u001b[0m\u001b[0mself\u001b[0m\u001b[0;34m)\u001b[0m \u001b[0;34m->\u001b[0m \u001b[0;32mNone\u001b[0m\u001b[0;34m:\u001b[0m\u001b[0;34m\u001b[0m\u001b[0;34m\u001b[0m\u001b[0m\n",
            "\u001b[0;32m/usr/local/lib/python3.10/dist-packages/pandas/io/parsers/readers.py\u001b[0m in \u001b[0;36m_make_engine\u001b[0;34m(self, f, engine)\u001b[0m\n\u001b[1;32m   1659\u001b[0m                 \u001b[0;32mif\u001b[0m \u001b[0;34m\"b\"\u001b[0m \u001b[0;32mnot\u001b[0m \u001b[0;32min\u001b[0m \u001b[0mmode\u001b[0m\u001b[0;34m:\u001b[0m\u001b[0;34m\u001b[0m\u001b[0;34m\u001b[0m\u001b[0m\n\u001b[1;32m   1660\u001b[0m                     \u001b[0mmode\u001b[0m \u001b[0;34m+=\u001b[0m \u001b[0;34m\"b\"\u001b[0m\u001b[0;34m\u001b[0m\u001b[0;34m\u001b[0m\u001b[0m\n\u001b[0;32m-> 1661\u001b[0;31m             self.handles = get_handle(\n\u001b[0m\u001b[1;32m   1662\u001b[0m                 \u001b[0mf\u001b[0m\u001b[0;34m,\u001b[0m\u001b[0;34m\u001b[0m\u001b[0;34m\u001b[0m\u001b[0m\n\u001b[1;32m   1663\u001b[0m                 \u001b[0mmode\u001b[0m\u001b[0;34m,\u001b[0m\u001b[0;34m\u001b[0m\u001b[0;34m\u001b[0m\u001b[0m\n",
            "\u001b[0;32m/usr/local/lib/python3.10/dist-packages/pandas/io/common.py\u001b[0m in \u001b[0;36mget_handle\u001b[0;34m(path_or_buf, mode, encoding, compression, memory_map, is_text, errors, storage_options)\u001b[0m\n\u001b[1;32m    857\u001b[0m         \u001b[0;32mif\u001b[0m \u001b[0mioargs\u001b[0m\u001b[0;34m.\u001b[0m\u001b[0mencoding\u001b[0m \u001b[0;32mand\u001b[0m \u001b[0;34m\"b\"\u001b[0m \u001b[0;32mnot\u001b[0m \u001b[0;32min\u001b[0m \u001b[0mioargs\u001b[0m\u001b[0;34m.\u001b[0m\u001b[0mmode\u001b[0m\u001b[0;34m:\u001b[0m\u001b[0;34m\u001b[0m\u001b[0;34m\u001b[0m\u001b[0m\n\u001b[1;32m    858\u001b[0m             \u001b[0;31m# Encoding\u001b[0m\u001b[0;34m\u001b[0m\u001b[0;34m\u001b[0m\u001b[0m\n\u001b[0;32m--> 859\u001b[0;31m             handle = open(\n\u001b[0m\u001b[1;32m    860\u001b[0m                 \u001b[0mhandle\u001b[0m\u001b[0;34m,\u001b[0m\u001b[0;34m\u001b[0m\u001b[0;34m\u001b[0m\u001b[0m\n\u001b[1;32m    861\u001b[0m                 \u001b[0mioargs\u001b[0m\u001b[0;34m.\u001b[0m\u001b[0mmode\u001b[0m\u001b[0;34m,\u001b[0m\u001b[0;34m\u001b[0m\u001b[0;34m\u001b[0m\u001b[0m\n",
            "\u001b[0;31mFileNotFoundError\u001b[0m: [Errno 2] No such file or directory: 'NEW DF'"
          ]
        }
      ]
    },
    {
      "cell_type": "code",
      "source": [
        "new"
      ],
      "metadata": {
        "id": "wk-rqtnsDz0A"
      },
      "execution_count": null,
      "outputs": []
    }
  ]
}