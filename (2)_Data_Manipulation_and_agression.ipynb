{
  "nbformat": 4,
  "nbformat_minor": 0,
  "metadata": {
    "colab": {
      "provenance": [],
      "authorship_tag": "ABX9TyNCvSfkn9bQ2fdkRLbDsYbB",
      "include_colab_link": true
    },
    "kernelspec": {
      "name": "python3",
      "display_name": "Python 3"
    },
    "language_info": {
      "name": "python"
    }
  },
  "cells": [
    {
      "cell_type": "markdown",
      "metadata": {
        "id": "view-in-github",
        "colab_type": "text"
      },
      "source": [
        "<a href=\"https://colab.research.google.com/github/mahinkhan1408/NID-Data-extraction-project/blob/main/(2)_Data_Manipulation_and_agression.ipynb\" target=\"_parent\"><img src=\"https://colab.research.google.com/assets/colab-badge.svg\" alt=\"Open In Colab\"/></a>"
      ]
    },
    {
      "cell_type": "code",
      "execution_count": 2,
      "metadata": {
        "colab": {
          "base_uri": "https://localhost:8080/"
        },
        "id": "dnIBd5yg_itO",
        "outputId": "139c95b8-0f05-4484-b542-27750831ee48"
      },
      "outputs": [
        {
          "output_type": "stream",
          "name": "stdout",
          "text": [
            "        Status                WO #      Work Type  Client State  Date Due  \\\n",
            "0    Cancelled          1061203253   Snow Removal    9102    IL  02-06-25   \n",
            "1    Cancelled          1061201299   Snow Removal    9102    IL  01-31-25   \n",
            "2    Cancelled          1061199149   Snow Removal    9102    IL  01-22-25   \n",
            "3    Cancelled          1061197921   Snow Removal    9102    WI  01-17-25   \n",
            "4       Closed          1061196387   Snow Removal    9102    IL  01-11-25   \n",
            "..         ...                 ...            ...     ...   ...       ...   \n",
            "495     Closed  101992- Electrical  Turn Estimate    2115    IN  05-15-24   \n",
            "496     Closed      101992- Stairs  Turn Estimate    2115    IN  05-15-24   \n",
            "497     Closed         00579946-BA    OM Approval    9111    AL  05-15-24   \n",
            "498  Cancelled              215017    OM Estimate    6609    PA  05-15-24   \n",
            "499     Closed     453149587-IS-Z1      Misc.Work    9106    MS  05-15-24   \n",
            "\n",
            "    Ready Office Date Received         Category Customer        Loan #  \\\n",
            "0            NaN      02-06-24  Ready To Assign      271    ######2682   \n",
            "1            NaN      01-31-24  Ready To Assign      271    ######3462   \n",
            "2       04-01-24      01-22-24  Ready To Assign      251    ######7315   \n",
            "3       04-01-24      03-19-24  Ready To Assign      271    ######9863   \n",
            "4       01-22-24      01-11-24  Ready To Assign      251    ######7315   \n",
            "..           ...           ...              ...      ...           ...   \n",
            "495     05-16-24      05-13-24             RUSH      NaN           NaN   \n",
            "496     05-14-24      05-13-24             RUSH      NaN           NaN   \n",
            "497     05-24-24      05-13-24             RUSH      NaN           NaN   \n",
            "498          NaN      05-13-24              NaN      NaN           NaN   \n",
            "499     05-21-24      05-13-24  Ready To Assign      NaN  0680668209-0   \n",
            "\n",
            "                Address             City    Zip          Contractor  \\\n",
            "0     8421 S Paulina St          Chicago  60620       Emmanuel Sosa   \n",
            "1      1224  Landon Ave  Winthrop Harbor  60096       Emmanuel Sosa   \n",
            "2       409  Prairie St         Kirkland  60146  Brandi Covarrubias   \n",
            "3     506 S Indiana Ave        West Bend  53095             Jacob R   \n",
            "4       409  Prairie St         Kirkland  60146  Brandi Covarrubias   \n",
            "..                  ...              ...    ...                 ...   \n",
            "495   4688 Briarwood Dr         Newburgh  47630         Theo Tafhim   \n",
            "496   4688 Briarwood Dr         Newburgh  47630         Theo Tafhim   \n",
            "497  1723 6th Pl Cir NW     Center Point  35215            Samuel H   \n",
            "498  1508 Brookstone Pl       Hellertown  18055            Amilia T   \n",
            "499    110 MAGNOLIA CIR          JACKSON  39209      Sylvia Preston   \n",
            "\n",
            "           Admin  Photos  \n",
            "0            NaN       0  \n",
            "1            NaN       0  \n",
            "2            NaN       0  \n",
            "3            NaN       0  \n",
            "4            NaN      28  \n",
            "..           ...     ...  \n",
            "495  Theo Tafhim       2  \n",
            "496  Theo Tafhim       3  \n",
            "497          NaN      14  \n",
            "498      Sunny A       1  \n",
            "499          NaN      62  \n",
            "\n",
            "[500 rows x 17 columns]\n"
          ]
        }
      ],
      "source": [
        "import pandas as pd\n",
        "\n",
        "df = pd.read_csv('/content/ESUS 500 data.csv')\n",
        "print(df)"
      ]
    },
    {
      "cell_type": "code",
      "source": [
        "new_df= df.groupby('Status')['Client'].count()\n",
        "print(new_df)"
      ],
      "metadata": {
        "colab": {
          "base_uri": "https://localhost:8080/"
        },
        "id": "VX5mZESEA7Kh",
        "outputId": "24b057f6-7b2b-40b8-867e-3646f934b981"
      },
      "execution_count": 3,
      "outputs": [
        {
          "output_type": "stream",
          "name": "stdout",
          "text": [
            "Status\n",
            "Cancelled                37\n",
            "Closed                  233\n",
            "Follow Up                 3\n",
            "In Field                148\n",
            "Invoiced                  9\n",
            "Ready for Office         15\n",
            "Ready for Office (2)      4\n",
            "Unassigned               13\n",
            "Unread                   38\n",
            "Name: Client, dtype: int64\n"
          ]
        }
      ]
    },
    {
      "cell_type": "code",
      "source": [
        "Clientreport= df.groupby('Client')['WO #'].count()\n",
        "print(Clientreport)"
      ],
      "metadata": {
        "colab": {
          "base_uri": "https://localhost:8080/"
        },
        "id": "5s-3jhCUO8X0",
        "outputId": "63c300e6-be05-4c0b-a4bf-164255b748c7"
      },
      "execution_count": 4,
      "outputs": [
        {
          "output_type": "stream",
          "name": "stdout",
          "text": [
            "Client\n",
            "1102      1\n",
            "1108     15\n",
            "1111     24\n",
            "1114      4\n",
            "1115      6\n",
            "2103      6\n",
            "2115     32\n",
            "2117      6\n",
            "3303     11\n",
            "3306      8\n",
            "3311     34\n",
            "6601      1\n",
            "6604      2\n",
            "6609      5\n",
            "6611      5\n",
            "6616     24\n",
            "7502      4\n",
            "7503      2\n",
            "7506     23\n",
            "7507     17\n",
            "7509      1\n",
            "9102    192\n",
            "9103     31\n",
            "9104     20\n",
            "9106      8\n",
            "9111      9\n",
            "9115      7\n",
            "9118      2\n",
            "Name: WO #, dtype: int64\n"
          ]
        }
      ]
    },
    {
      "cell_type": "code",
      "source": [
        " new_df.aggregate(['sum','min'])"
      ],
      "metadata": {
        "id": "SMrwXnjQKExh",
        "colab": {
          "base_uri": "https://localhost:8080/"
        },
        "outputId": "8fb82e5a-6df4-4f85-f7e2-cbc2b37ae915"
      },
      "execution_count": 7,
      "outputs": [
        {
          "output_type": "execute_result",
          "data": {
            "text/plain": [
              "sum    500\n",
              "min      3\n",
              "Name: Client, dtype: int64"
            ]
          },
          "metadata": {},
          "execution_count": 7
        }
      ]
    },
    {
      "cell_type": "markdown",
      "source": [
        "**JOIN 2 dataset**"
      ],
      "metadata": {
        "id": "zWESfIKy7TQV"
      }
    },
    {
      "cell_type": "code",
      "source": [
        "new_file = pd.read_csv('NEW DF')\n",
        "merged_data = pd.merge(new_df,new_file, on= ' A COLUMN NAME')\n",
        "print(merged_data)"
      ],
      "metadata": {
        "id": "OppK28nB6-PM"
      },
      "execution_count": null,
      "outputs": []
    }
  ]
}