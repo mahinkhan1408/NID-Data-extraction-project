{
  "nbformat": 4,
  "nbformat_minor": 0,
  "metadata": {
    "colab": {
      "provenance": [],
      "authorship_tag": "ABX9TyOgxkSQqk9oZ8Nat8yyHch6",
      "include_colab_link": true
    },
    "kernelspec": {
      "name": "python3",
      "display_name": "Python 3"
    },
    "language_info": {
      "name": "python"
    }
  },
  "cells": [
    {
      "cell_type": "markdown",
      "metadata": {
        "id": "view-in-github",
        "colab_type": "text"
      },
      "source": [
        "<a href=\"https://colab.research.google.com/github/mahinkhan1408/NID-Data-extraction-project/blob/main/Numpy_array.ipynb\" target=\"_parent\"><img src=\"https://colab.research.google.com/assets/colab-badge.svg\" alt=\"Open In Colab\"/></a>"
      ]
    },
    {
      "cell_type": "code",
      "execution_count": 1,
      "metadata": {
        "colab": {
          "base_uri": "https://localhost:8080/"
        },
        "id": "bdghM2KHIT_D",
        "outputId": "6a2b308e-be9e-4e67-d170-702bdab8dcfc"
      },
      "outputs": [
        {
          "output_type": "stream",
          "name": "stdout",
          "text": [
            "[0. 0. 0. 0. 0. 0. 0. 0. 0. 0.]\n",
            "[ 1  2  3  4  5  6 67]\n"
          ]
        }
      ],
      "source": [
        "import numpy as  np\n",
        "\n",
        "zer=   np.zeros(10)\n",
        "\n",
        "print(zer)\n",
        "\n",
        "num= [1,2,3,4,5,6,67]\n",
        "\n",
        "array1 =  np.array(num)\n",
        "print(array1)"
      ]
    },
    {
      "cell_type": "code",
      "source": [
        "one_array = np.ones(100)\n",
        "print(one_array)"
      ],
      "metadata": {
        "colab": {
          "base_uri": "https://localhost:8080/"
        },
        "id": "dsmwivmqKD2v",
        "outputId": "67cb9625-2bd9-43b5-e40f-67e6a7f2fe43"
      },
      "execution_count": null,
      "outputs": [
        {
          "output_type": "stream",
          "name": "stdout",
          "text": [
            "[1. 1. 1. 1. 1. 1. 1. 1. 1. 1. 1. 1. 1. 1. 1. 1. 1. 1. 1. 1. 1. 1. 1. 1.\n",
            " 1. 1. 1. 1. 1. 1. 1. 1. 1. 1. 1. 1. 1. 1. 1. 1. 1. 1. 1. 1. 1. 1. 1. 1.\n",
            " 1. 1. 1. 1. 1. 1. 1. 1. 1. 1. 1. 1. 1. 1. 1. 1. 1. 1. 1. 1. 1. 1. 1. 1.\n",
            " 1. 1. 1. 1. 1. 1. 1. 1. 1. 1. 1. 1. 1. 1. 1. 1. 1. 1. 1. 1. 1. 1. 1. 1.\n",
            " 1. 1. 1. 1.]\n"
          ]
        }
      ]
    },
    {
      "cell_type": "code",
      "source": [
        "rando = np.arange(1,50,2)  # dont think like \"arrange\" , its 'arange'\n",
        "print(rando)"
      ],
      "metadata": {
        "colab": {
          "base_uri": "https://localhost:8080/"
        },
        "id": "LrrFqLs6KLmR",
        "outputId": "26707874-9a85-4e4c-9344-7f4329243667"
      },
      "execution_count": null,
      "outputs": [
        {
          "output_type": "stream",
          "name": "stdout",
          "text": [
            "[ 1  3  5  7  9 11 13 15 17 19 21 23 25 27 29 31 33 35 37 39 41 43 45 47\n",
            " 49]\n"
          ]
        }
      ]
    },
    {
      "cell_type": "code",
      "source": [
        "randomm=  np.random.randint(1,100,5)\n",
        "print(randomm)\n"
      ],
      "metadata": {
        "colab": {
          "base_uri": "https://localhost:8080/"
        },
        "id": "qaVIe7AMKsXx",
        "outputId": "ed877608-c070-4b6e-8939-df80163004ec"
      },
      "execution_count": null,
      "outputs": [
        {
          "output_type": "stream",
          "name": "stdout",
          "text": [
            "[25 42 78 65 51]\n"
          ]
        }
      ]
    },
    {
      "cell_type": "code",
      "source": [
        "randommatrix = np.random.rand(3,3)\n",
        "print(randommatrix)"
      ],
      "metadata": {
        "colab": {
          "base_uri": "https://localhost:8080/"
        },
        "id": "4SvMyLLIK390",
        "outputId": "67889be1-4eea-48d7-dd5d-bfab5cb60df1"
      },
      "execution_count": null,
      "outputs": [
        {
          "output_type": "stream",
          "name": "stdout",
          "text": [
            "[[0.50413169 0.74371034 0.38731165]\n",
            " [0.74222572 0.70829555 0.16029698]\n",
            " [0.00717751 0.62662346 0.95091216]]\n"
          ]
        }
      ]
    },
    {
      "cell_type": "code",
      "source": [
        "shape = randommatrix.shape\n",
        "print(shape)"
      ],
      "metadata": {
        "colab": {
          "base_uri": "https://localhost:8080/"
        },
        "id": "mxUZYEpOLL6w",
        "outputId": "0e1c551e-6b98-47e5-d612-6292d489c232"
      },
      "execution_count": null,
      "outputs": [
        {
          "output_type": "stream",
          "name": "stdout",
          "text": [
            "(3, 3)\n"
          ]
        }
      ]
    },
    {
      "cell_type": "code",
      "source": [
        "size = randommatrix.size\n",
        "print(size)"
      ],
      "metadata": {
        "colab": {
          "base_uri": "https://localhost:8080/"
        },
        "id": "Sgt-9iEJLqTJ",
        "outputId": "d63aaa31-843c-4633-a3fc-cd0361eea3d8"
      },
      "execution_count": null,
      "outputs": [
        {
          "output_type": "stream",
          "name": "stdout",
          "text": [
            "9\n"
          ]
        }
      ]
    },
    {
      "cell_type": "code",
      "source": [
        "dtype = randommatrix.dtype\n",
        "print(dtype)"
      ],
      "metadata": {
        "colab": {
          "base_uri": "https://localhost:8080/"
        },
        "id": "536Q-MJzLx-9",
        "outputId": "13b6d1f1-d737-4d4a-aa07-cff4cd01a468"
      },
      "execution_count": null,
      "outputs": [
        {
          "output_type": "stream",
          "name": "stdout",
          "text": [
            "float64\n"
          ]
        }
      ]
    },
    {
      "cell_type": "code",
      "source": [
        "#dimension\n",
        "\n",
        "print(randommatrix.ndim)"
      ],
      "metadata": {
        "colab": {
          "base_uri": "https://localhost:8080/"
        },
        "id": "1Vh52d2qL6aS",
        "outputId": "7af4ff77-8de8-4504-c93d-e849a10691c6"
      },
      "execution_count": null,
      "outputs": [
        {
          "output_type": "stream",
          "name": "stdout",
          "text": [
            "2\n"
          ]
        }
      ]
    },
    {
      "cell_type": "code",
      "source": [
        "array1= np.array([1,4,5,6,7])\n",
        "array2= np.array([5,7,8,12,17])\n",
        "\n",
        "sum = array1 + array2\n",
        "\n",
        "print (sum)\n",
        "\n",
        "mul= array1 * array2\n",
        "#div"
      ],
      "metadata": {
        "id": "N-98vDkUL74g",
        "colab": {
          "base_uri": "https://localhost:8080/"
        },
        "outputId": "091281f5-9ebd-44a5-813d-95803e511b7c"
      },
      "execution_count": null,
      "outputs": [
        {
          "output_type": "stream",
          "name": "stdout",
          "text": [
            "[ 6 11 13 18 24]\n"
          ]
        }
      ]
    },
    {
      "cell_type": "code",
      "source": [
        "# aggregation\n",
        "\n",
        "mean = np.mean(array1)\n",
        "print(mean)\n",
        "\n",
        "#sum()\n",
        "#max(), min()"
      ],
      "metadata": {
        "colab": {
          "base_uri": "https://localhost:8080/"
        },
        "id": "vHaJqZA7hFWd",
        "outputId": "134c0930-87dc-438b-ee7f-3dd2add3f14a"
      },
      "execution_count": null,
      "outputs": [
        {
          "output_type": "stream",
          "name": "stdout",
          "text": [
            "4.6\n"
          ]
        }
      ]
    },
    {
      "cell_type": "code",
      "source": [
        "# we can perform boolean operation\n",
        "\n",
        "greater_than = array1 > 3\n",
        "\n",
        "print(greater_than)"
      ],
      "metadata": {
        "colab": {
          "base_uri": "https://localhost:8080/"
        },
        "id": "Zz-n3UPGhdDS",
        "outputId": "6e205b5a-e2b5-448f-8b59-8101a5e7ba1e"
      },
      "execution_count": null,
      "outputs": [
        {
          "output_type": "stream",
          "name": "stdout",
          "text": [
            "[False  True  True  True  True]\n"
          ]
        }
      ]
    },
    {
      "cell_type": "code",
      "source": [
        "#broadcasting\n",
        "\n",
        "result = array1 + 5\n",
        "print(result)"
      ],
      "metadata": {
        "colab": {
          "base_uri": "https://localhost:8080/"
        },
        "id": "D9WzuGSviiku",
        "outputId": "50714b51-57cb-4918-bd35-ab702a6295fc"
      },
      "execution_count": null,
      "outputs": [
        {
          "output_type": "stream",
          "name": "stdout",
          "text": [
            "[ 6  9 10 11 12]\n"
          ]
        }
      ]
    },
    {
      "cell_type": "markdown",
      "source": [
        "**INDEXING and SLICING**"
      ],
      "metadata": {
        "id": "YOkcfH9gi25X"
      }
    },
    {
      "cell_type": "code",
      "source": [
        "print(array1[-2])"
      ],
      "metadata": {
        "colab": {
          "base_uri": "https://localhost:8080/"
        },
        "id": "-NCDC7Bai2in",
        "outputId": "0d4bd473-f24b-42f4-b0bd-a55baf47d715"
      },
      "execution_count": 8,
      "outputs": [
        {
          "output_type": "stream",
          "name": "stdout",
          "text": [
            "6\n"
          ]
        }
      ]
    },
    {
      "cell_type": "code",
      "source": [
        "#slicing a array\n",
        "print(array1)\n",
        "sliced= array1[1:4]  # last element wont be printed\n",
        "print(sliced)"
      ],
      "metadata": {
        "colab": {
          "base_uri": "https://localhost:8080/"
        },
        "id": "hW1p1HUbjnWz",
        "outputId": "0f370696-8e71-4d41-bbad-93af68f3d5ba"
      },
      "execution_count": 11,
      "outputs": [
        {
          "output_type": "stream",
          "name": "stdout",
          "text": [
            "[1 4 5 6 7]\n",
            "[4 5 6]\n"
          ]
        }
      ]
    },
    {
      "cell_type": "code",
      "source": [
        "#step by 2\n",
        "\n",
        "array= [1,2,3,45,5,6,7,7,8,9,9,23,4,5,6,7]\n",
        "step_array = array[::2]  # this will provide the output of the list element one step ahead\n",
        "print(step_array)\n",
        "\n",
        "sarray = array[2::]\n",
        "print(sarray) # this is showing every elements except the first two\n",
        "\n",
        "\n",
        "sarray = array[5::]\n",
        "print(sarray)\n",
        "\n",
        "\n",
        "sarray = array[2::8] #only the\n",
        "print(sarray)"
      ],
      "metadata": {
        "colab": {
          "base_uri": "https://localhost:8080/"
        },
        "id": "DJQZfSI5kV8j",
        "outputId": "9c2fea3c-ef0a-465d-d82b-52ae8d7b4b92"
      },
      "execution_count": 15,
      "outputs": [
        {
          "output_type": "stream",
          "name": "stdout",
          "text": [
            "[1, 3, 5, 7, 8, 9, 4, 6]\n",
            "[3, 45, 5, 6, 7, 7, 8, 9, 9, 23, 4, 5, 6, 7]\n",
            "[6, 7, 7, 8, 9, 9, 23, 4, 5, 6, 7]\n",
            "[3, 9]\n"
          ]
        }
      ]
    },
    {
      "cell_type": "code",
      "source": [
        "matrix =  np.array([[1,2,3],[4,5,6],[7,8,9]])\n",
        "\n",
        "element = matrix[1,1]\n",
        "print(element)\n",
        "\n",
        "second = matrix[1,:] # will print second row\n",
        "print(second)\n",
        "\n",
        "col = matrix[:,1]\n",
        "print(col)"
      ],
      "metadata": {
        "colab": {
          "base_uri": "https://localhost:8080/"
        },
        "id": "J_IAsGjLtOtc",
        "outputId": "03a76460-5fed-4bf9-f607-7f6b2dc2bc1c"
      },
      "execution_count": 4,
      "outputs": [
        {
          "output_type": "stream",
          "name": "stdout",
          "text": [
            "5\n",
            "[4 5 6]\n",
            "[2 5 8]\n"
          ]
        }
      ]
    },
    {
      "cell_type": "code",
      "source": [
        "# missing data management in numpy''\n",
        "data = np.array ([1,2,3,np.nan, 4,5])\n",
        "missing = np.isnan(data)\n",
        "print(missing)\n",
        "dataf = np.nan_to_num(data, nan = 100)\n",
        "print(dataf)"
      ],
      "metadata": {
        "colab": {
          "base_uri": "https://localhost:8080/"
        },
        "id": "bZhTKHk-t9kd",
        "outputId": "51f908cd-fae2-4e84-dc32-59ab07c33928"
      },
      "execution_count": 6,
      "outputs": [
        {
          "output_type": "stream",
          "name": "stdout",
          "text": [
            "[False False False  True False False]\n",
            "[  1.   2.   3. 100.   4.   5.]\n"
          ]
        }
      ]
    },
    {
      "cell_type": "markdown",
      "source": [
        "**Linear Algebra and Statistics**\n",
        "\n",
        "* matrix multiplication and inversion\n",
        "* Mean and standard deviation\n",
        "*corelation"
      ],
      "metadata": {
        "id": "HI5QocTowCq-"
      }
    },
    {
      "cell_type": "code",
      "source": [
        "array1 = np.array([[1,2],[3,4]])\n",
        "array2 = np.array([[3,5],[7,8]])\n",
        "\n",
        "mul= np.dot(array1, array2) #matrix multiplication\n",
        "print(mul)\n",
        "\n",
        "invr = np.linalg.inv(array1)\n",
        "print(invr) # inverse of the matrix (array1 )\n",
        "\n",
        "eval, evect = np.linalg.eig(array1)  # eagen value and vector\n",
        "#(w, v) (tuple of ndarray): This function returns a tuple consisting of two arrays:\n",
        "print(eval)\n",
        "print(evect)\n"
      ],
      "metadata": {
        "colab": {
          "base_uri": "https://localhost:8080/"
        },
        "id": "LGdqz15swCbW",
        "outputId": "8e3b5437-5d41-4293-f26e-2b666f8e8a5d"
      },
      "execution_count": 10,
      "outputs": [
        {
          "output_type": "stream",
          "name": "stdout",
          "text": [
            "[[17 21]\n",
            " [37 47]]\n",
            "[[-2.   1. ]\n",
            " [ 1.5 -0.5]]\n",
            "[-0.37228132  5.37228132]\n",
            "[[-0.82456484 -0.41597356]\n",
            " [ 0.56576746 -0.90937671]]\n"
          ]
        }
      ]
    },
    {
      "cell_type": "code",
      "source": [
        "data1 = np.array([1,2,3,4,5])\n",
        "\n",
        "mean= np.mean(data1)\n",
        "print(mean)\n",
        "stddev = np.std(data1)\n",
        "print(stddev)\n"
      ],
      "metadata": {
        "colab": {
          "base_uri": "https://localhost:8080/"
        },
        "id": "1YVwLAgnv876",
        "outputId": "3f86cf96-2d12-45e6-c3bb-ef5da4ba99a9"
      },
      "execution_count": 16,
      "outputs": [
        {
          "output_type": "stream",
          "name": "stdout",
          "text": [
            "3.0\n",
            "1.4142135623730951\n",
            "[[1.         0.35804682]\n",
            " [0.35804682 1.        ]]\n"
          ]
        }
      ]
    },
    {
      "cell_type": "code",
      "source": [
        "\n",
        "#correlation and coefficient\n",
        "\n",
        "data2=  np.array([1,56,7,643,23])\n",
        "cor=np.corrcoef(data1,data2)\n",
        "print(cor)"
      ],
      "metadata": {
        "colab": {
          "base_uri": "https://localhost:8080/"
        },
        "id": "ofZXph6cyrrh",
        "outputId": "8fe56dc7-4d91-4a2e-b8e6-ce7ec280986c"
      },
      "execution_count": 17,
      "outputs": [
        {
          "output_type": "stream",
          "name": "stdout",
          "text": [
            "[[1.         0.35804682]\n",
            " [0.35804682 1.        ]]\n"
          ]
        }
      ]
    },
    {
      "cell_type": "markdown",
      "source": [
        "**Write DataFrames as file**"
      ],
      "metadata": {
        "id": "P6R3eFDcy6uI"
      }
    },
    {
      "cell_type": "code",
      "source": [
        "np.savetxt('output.csv',mul,delimiter=',') # output will be in csv\n",
        "\n"
      ],
      "metadata": {
        "id": "pP3gdGwly-0X"
      },
      "execution_count": 18,
      "outputs": []
    },
    {
      "cell_type": "markdown",
      "source": [
        "Write as binary file"
      ],
      "metadata": {
        "id": "Xdvns0kXzsC2"
      }
    },
    {
      "cell_type": "code",
      "source": [
        "np.save('output.npy',mul)\n",
        "\n",
        "# to use the binary file\n",
        "\n",
        "new_matrix = np.load('output.npy')"
      ],
      "metadata": {
        "id": "XIBfbvnKzrct"
      },
      "execution_count": 19,
      "outputs": []
    },
    {
      "cell_type": "markdown",
      "source": [
        "We can save it as excel also, for that we need to use pandas"
      ],
      "metadata": {
        "id": "eFQmZ0nW0NDu"
      }
    },
    {
      "cell_type": "code",
      "source": [
        "import pandas as pd\n",
        "df= pd.DataFrame(mul)\n",
        "df.to_excel('output.xlsx0')"
      ],
      "metadata": {
        "id": "TqWGjeBu0SRJ"
      },
      "execution_count": 25,
      "outputs": []
    }
  ]
}