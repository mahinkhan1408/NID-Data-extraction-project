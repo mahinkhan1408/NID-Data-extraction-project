{
  "nbformat": 4,
  "nbformat_minor": 0,
  "metadata": {
    "colab": {
      "provenance": [],
      "authorship_tag": "ABX9TyNgixITsnnFqUFTOVRRjDie",
      "include_colab_link": true
    },
    "kernelspec": {
      "name": "python3",
      "display_name": "Python 3"
    },
    "language_info": {
      "name": "python"
    }
  },
  "cells": [
    {
      "cell_type": "markdown",
      "metadata": {
        "id": "view-in-github",
        "colab_type": "text"
      },
      "source": [
        "<a href=\"https://colab.research.google.com/github/mahinkhan1408/NID-Data-extraction-project/blob/main/ETL_method_in_data_engineering.ipynb\" target=\"_parent\"><img src=\"https://colab.research.google.com/assets/colab-badge.svg\" alt=\"Open In Colab\"/></a>"
      ]
    },
    {
      "cell_type": "markdown",
      "source": [
        "Tips to write efficient code\n",
        "\n",
        "* Choose the right Data Strcutures\n",
        "* Minimize function calls in loops\n",
        "* Avoid global variables\n",
        "* Use built in functions and libraries\n",
        "*"
      ],
      "metadata": {
        "id": "bj9YvqOsqGBh"
      }
    },
    {
      "cell_type": "markdown",
      "source": [
        "ETL\n",
        "\n",
        "* **Extraction** (E)\n",
        "-gathering data from various sources\n",
        "-Real-life example : Retail chain expansion\n",
        "\n",
        "* Transformation(T)\n",
        "- Cleaning , filtering and manipulating data\n",
        "\n",
        "* Loading (L)\n",
        "\n",
        "-Loading transformed data into a data warehouse **bold text**"
      ],
      "metadata": {
        "id": "ucQ5w968qr0v"
      }
    },
    {
      "cell_type": "markdown",
      "source": [
        "HADOOP (framework)\n",
        "analogy: Social media platforms manage massive amount of data.\n",
        "- helps to process unstructured data\n",
        "-hadoop is an engine for processing and analyzing large amount of data.\n",
        "-Supercomputer for data management.\n",
        "\n",
        "Hadoop in action\n",
        "-Parallel processing.\n",
        "-fault tolerance\n",
        "-scalability\n",
        "-Efficient management of large volumes of data\n",
        "\n",
        "(https://www.linkedin.com/learning-login/share?account=73722380&forceAccount=false&redirect=https%3A%2F%2Fwww.linkedin.com%2Flearning%2Fpython-for-data-engineering-from-beginner-to-advanced%2Fwhat-is-hadoop%3Ftrk%3Dshare_video_url%26shareId%3Df6udH4YxTu2g2G5OUYTEmg%253D%253D)"
      ],
      "metadata": {
        "id": "PIHQUHLore0k"
      }
    },
    {
      "cell_type": "markdown",
      "source": [
        "PySpark (py library )\n",
        "analogy:Air traffic cotroller managing planes\n",
        "\n",
        "-is a high speed engine for data processing\n",
        "-distributed computed engine\n",
        "-pyspark's a Python library that works with powerful framework, like Apache Spark. The combination allows us to process huge amount of data with incredible speed.\n",
        "-scalability and speed\n",
        "-parallel processing\n",
        "-Real time processing\n",
        "-ETL streamlining\n",
        "-driving innovations and insights **bold text**"
      ],
      "metadata": {
        "id": "kbgjFA6XsTcw"
      }
    },
    {
      "cell_type": "markdown",
      "source": [
        "Visualizing tools\n",
        "\n",
        "* instant insights\n",
        "* spotting trends with ease\n",
        "* storytelling with ease\n",
        "\n",
        "Importance of visualization\n",
        "\n",
        "* improves data quality assessmebt\n",
        "* increses engagement"
      ],
      "metadata": {
        "id": "yOwhGfOptXNE"
      }
    },
    {
      "cell_type": "markdown",
      "source": [
        "ON-PREMISES DATA ENGINEERING\n",
        "\n",
        "* full owenership\n",
        "* control and customization\n",
        "* security and compliance\n",
        "\n",
        "Cloud Data Engineering\n",
        "* Limited ownership\n",
        "* lower up front cost and pay per\n",
        "*Scalability and flexibility\n",
        "*Cost efficiency\n",
        "*OPEX MODDEL (operational expenses)"
      ],
      "metadata": {
        "id": "V4uMcrfBwmgN"
      }
    }
  ]
}