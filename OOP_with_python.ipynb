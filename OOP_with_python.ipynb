{
  "nbformat": 4,
  "nbformat_minor": 0,
  "metadata": {
    "colab": {
      "provenance": [],
      "authorship_tag": "ABX9TyOVok9b0HVtdIkTv6A2dUBs",
      "include_colab_link": true
    },
    "kernelspec": {
      "name": "python3",
      "display_name": "Python 3"
    },
    "language_info": {
      "name": "python"
    }
  },
  "cells": [
    {
      "cell_type": "markdown",
      "metadata": {
        "id": "view-in-github",
        "colab_type": "text"
      },
      "source": [
        "<a href=\"https://colab.research.google.com/github/mahinkhan1408/NID-Data-extraction-project/blob/main/OOP_with_python.ipynb\" target=\"_parent\"><img src=\"https://colab.research.google.com/assets/colab-badge.svg\" alt=\"Open In Colab\"/></a>"
      ]
    },
    {
      "cell_type": "code",
      "execution_count": 1,
      "metadata": {
        "colab": {
          "base_uri": "https://localhost:8080/"
        },
        "id": "rTFAPStXHyDd",
        "outputId": "0a10c7b6-a766-4dc6-ea64-bcf61e263b10"
      },
      "outputs": [
        {
          "output_type": "stream",
          "name": "stdout",
          "text": [
            "mahin is a Jr engineer earning $27500 actually.\n"
          ]
        }
      ],
      "source": [
        "class employee:\n",
        "  def __init__(self, name, position, salary):\n",
        "    self.name = name\n",
        "    self.position = position\n",
        "    self.salary = salary\n",
        "  def display_info(self):\n",
        "    return f\"{self.name} is a {self.position} earning ${self.salary} actually.\"\n",
        "\n",
        "employee1 = employee(\"mahin\",\"Jr engineer\", 27500)\n",
        "print(employee1.display_info())\n"
      ]
    },
    {
      "cell_type": "code",
      "source": [
        "class car:\n",
        "  def __init__(self,name,brand,registration,price):\n",
        "    self.name = name\n",
        "    self.brand= brand\n",
        "    self.registration = registration\n",
        "    self.price = price\n",
        "\n",
        "  def display_info(self):\n",
        "    return f\"I want to purchase a car from {self.name} brand, I want to name my car with my last name , like: {self.name} khan, the registration should be done before {self.registration} and my bbudget is {self.price}\"\n",
        "\n",
        "car1 = car(\"sheraa\",\"Audi\", 2022, 4000000)\n",
        "\n",
        "print(car1.display_info())"
      ],
      "metadata": {
        "colab": {
          "base_uri": "https://localhost:8080/"
        },
        "id": "bGVKiX-GLLyV",
        "outputId": "78549d33-9631-4320-fa2d-4d1689e8a58f"
      },
      "execution_count": 2,
      "outputs": [
        {
          "output_type": "stream",
          "name": "stdout",
          "text": [
            "I want to purchase a car from sheraa brand, I want to name my car with my last name , like: sheraa khan, the registration should be done before 2022 and my bbudget is 4000000\n"
          ]
        }
      ]
    },
    {
      "cell_type": "code",
      "source": [
        "class patients:\n",
        "  def __init__(self,name,disease,doctor,xray):\n",
        "    self.name = name\n",
        "    self.disease = disease\n",
        "    self.doctor = doctor\n",
        "    self.xray = xray\n",
        "\n",
        "  def display_info(self):\n",
        "    return f\" Name of the patient is {self.name}, his disease is {self.disease}. His appointed doctor is {self.doctor} , doctor said his xray is {self.xray}\"\n",
        "\n"
      ],
      "metadata": {
        "id": "CMkMjGf5MpKK"
      },
      "execution_count": 4,
      "outputs": []
    },
    {
      "cell_type": "markdown",
      "source": [
        "pmahin = patients(\"Mahin\", \"heart ache\", \"hasin ahmed\", \"fine\")\n",
        "\n",
        "print(pmahin.display_info())"
      ],
      "metadata": {
        "id": "anQ446pxXucU"
      }
    },
    {
      "cell_type": "code",
      "source": [
        "# we can chnage the elements of any object\n",
        "\n",
        "pmahin.name =\" Tuhin\"\n",
        "print(pmahin.display_info())"
      ],
      "metadata": {
        "colab": {
          "base_uri": "https://localhost:8080/"
        },
        "id": "PbUAu460huwA",
        "outputId": "27f804fa-54ed-4729-f589-9e72705df8cf"
      },
      "execution_count": 6,
      "outputs": [
        {
          "output_type": "stream",
          "name": "stdout",
          "text": [
            " Name of the patient is  Tuhin, his disease is heart ache. His appointed doctor is hasin ahmed , doctor said his xray is fine\n"
          ]
        }
      ]
    },
    {
      "cell_type": "markdown",
      "source": [
        "BASIC OOPS CONCEPTS.\n",
        "\n",
        "* abstraction\n",
        "- focus on what, not how\n",
        "- hides unnecessary from users\n",
        "\n",
        "* inheritance\n",
        "- Sharing traits\n",
        "- Base class\n",
        "- Derived Class\n",
        "- LEts classes sharing their traits and behaviours\n",
        "\n",
        "*polymorphism\n",
        "- many forms\n",
        "- one tool, many functions\n",
        "-benifits- flexibility and reusability\n",
        "bold text **bold text**"
      ],
      "metadata": {
        "id": "9fPNQ1KOiEXa"
      }
    },
    {
      "cell_type": "code",
      "source": [],
      "metadata": {
        "id": "TNGgzQNbi2a0"
      },
      "execution_count": null,
      "outputs": []
    }
  ]
}